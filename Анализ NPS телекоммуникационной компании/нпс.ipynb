{
 "cells": [
  {
   "cell_type": "code",
   "execution_count": 1,
   "id": "68967af4",
   "metadata": {
    "tags": [
     "aa81075c-062f-4de0-b5fe-14c73dc7468e"
    ]
   },
   "outputs": [],
   "source": [
    "import pandas as pd\n",
    "import numpy as np\n",
    "\n",
    "from sqlalchemy import create_engine"
   ]
  },
  {
   "cell_type": "code",
   "execution_count": 2,
   "id": "69b32b0b",
   "metadata": {},
   "outputs": [],
   "source": [
    "path_to_db = '/datasets/telecomm_csi.db' # путь к файлу\n",
    "engine = create_engine(f'sqlite:///{path_to_db}', echo = False)"
   ]
  },
  {
   "cell_type": "code",
   "execution_count": 3,
   "id": "812689de",
   "metadata": {},
   "outputs": [],
   "source": [
    "query = \"\"\"\n",
    "WITH\n",
    "\n",
    "u AS\n",
    "\n",
    "(SELECT user_id,\n",
    "          lt_day,\n",
    "          (CASE\n",
    "               WHEN lt_day <= 365 THEN 'new'\n",
    "               WHEN lt_day > 365 THEN 'not_new'\n",
    "           END) AS is_new,\n",
    "          age,\n",
    "          (CASE\n",
    "               WHEN gender_segment=1 THEN 'female'\n",
    "               WHEN gender_segment=0 THEN 'male'\n",
    "           END) AS gender_segment,\n",
    "          os_name,\n",
    "          cpe_type_name,\n",
    "          nps_score,\n",
    "          (CASE\n",
    "               WHEN nps_score>=9 THEN 'promoters'\n",
    "               WHEN nps_score>=7\n",
    "                    AND nps_score<9 THEN 'passives'\n",
    "               ELSE 'detractors'\n",
    "           END) AS nps_group,\n",
    "          location_id,\n",
    "          age_gr_id,\n",
    "          tr_gr_id,\n",
    "          lt_gr_id\n",
    "   FROM USER),\n",
    "\n",
    "l AS\n",
    "\n",
    "(SELECT country, city, location_id\n",
    " FROM location \n",
    "),\n",
    "\n",
    "a_s AS \n",
    "\n",
    "(SELECT age_gr_id, title\n",
    " FROM age_segment\n",
    "),\n",
    "\n",
    "t_s AS\n",
    "\n",
    "(SELECT tr_gr_id, title\n",
    " FROM traffic_segment\n",
    "),\n",
    "\n",
    "l_s AS\n",
    "\n",
    "(SELECT lt_gr_id, title\n",
    " FROM lifetime_segment\n",
    ")\n",
    "\n",
    "SELECT u.user_id AS user_id,\n",
    "       u.lt_day AS lt_day,\n",
    "       u.is_new AS is_new,\n",
    "       u.age AS age,\n",
    "       u.gender_segment AS gender_segment,\n",
    "       u.os_name AS os_name,\n",
    "       u.cpe_type_name AS cpe_type_name,\n",
    "       l.country AS country,\n",
    "       l.city AS city,\n",
    "       SUBSTR(a_s.title,3) AS age_segment,\n",
    "       SUBSTR(t_s.title,3) AS traffic_segment,\n",
    "       SUBSTR(l_s.title,3) AS lifetime_segment,\n",
    "       u.nps_score AS nps_score,\n",
    "       u.nps_group AS nps_group\n",
    "FROM u JOIN l ON u.location_id=l.location_id\n",
    "JOIN a_s ON u.age_gr_id=a_s.age_gr_id\n",
    "JOIN t_s ON u.tr_gr_id=t_s.tr_gr_id\n",
    "JOIN l_s ON u.lt_gr_id=l_s.lt_gr_id\n",
    "\n",
    "\"\"\""
   ]
  },
  {
   "cell_type": "code",
   "execution_count": 4,
   "id": "e4dcc6ea",
   "metadata": {},
   "outputs": [
    {
     "data": {
      "text/html": [
       "<div>\n",
       "<style scoped>\n",
       "    .dataframe tbody tr th:only-of-type {\n",
       "        vertical-align: middle;\n",
       "    }\n",
       "\n",
       "    .dataframe tbody tr th {\n",
       "        vertical-align: top;\n",
       "    }\n",
       "\n",
       "    .dataframe thead th {\n",
       "        text-align: right;\n",
       "    }\n",
       "</style>\n",
       "<table border=\"1\" class=\"dataframe\">\n",
       "  <thead>\n",
       "    <tr style=\"text-align: right;\">\n",
       "      <th></th>\n",
       "      <th>user_id</th>\n",
       "      <th>lt_day</th>\n",
       "      <th>is_new</th>\n",
       "      <th>age</th>\n",
       "      <th>gender_segment</th>\n",
       "      <th>os_name</th>\n",
       "      <th>cpe_type_name</th>\n",
       "      <th>country</th>\n",
       "      <th>city</th>\n",
       "      <th>age_segment</th>\n",
       "      <th>traffic_segment</th>\n",
       "      <th>lifetime_segment</th>\n",
       "      <th>nps_score</th>\n",
       "      <th>nps_group</th>\n",
       "    </tr>\n",
       "  </thead>\n",
       "  <tbody>\n",
       "    <tr>\n",
       "      <th>0</th>\n",
       "      <td>A001A2</td>\n",
       "      <td>2320</td>\n",
       "      <td>not_new</td>\n",
       "      <td>45.0</td>\n",
       "      <td>female</td>\n",
       "      <td>ANDROID</td>\n",
       "      <td>SMARTPHONE</td>\n",
       "      <td>Россия</td>\n",
       "      <td>Уфа</td>\n",
       "      <td>45-54</td>\n",
       "      <td>1-5</td>\n",
       "      <td>36+</td>\n",
       "      <td>10</td>\n",
       "      <td>promoters</td>\n",
       "    </tr>\n",
       "    <tr>\n",
       "      <th>1</th>\n",
       "      <td>A001WF</td>\n",
       "      <td>2344</td>\n",
       "      <td>not_new</td>\n",
       "      <td>53.0</td>\n",
       "      <td>male</td>\n",
       "      <td>ANDROID</td>\n",
       "      <td>SMARTPHONE</td>\n",
       "      <td>Россия</td>\n",
       "      <td>Киров</td>\n",
       "      <td>45-54</td>\n",
       "      <td>1-5</td>\n",
       "      <td>36+</td>\n",
       "      <td>10</td>\n",
       "      <td>promoters</td>\n",
       "    </tr>\n",
       "    <tr>\n",
       "      <th>2</th>\n",
       "      <td>A003Q7</td>\n",
       "      <td>467</td>\n",
       "      <td>not_new</td>\n",
       "      <td>57.0</td>\n",
       "      <td>male</td>\n",
       "      <td>ANDROID</td>\n",
       "      <td>SMARTPHONE</td>\n",
       "      <td>Россия</td>\n",
       "      <td>Москва</td>\n",
       "      <td>55-64</td>\n",
       "      <td>20-25</td>\n",
       "      <td>13-24</td>\n",
       "      <td>10</td>\n",
       "      <td>promoters</td>\n",
       "    </tr>\n",
       "    <tr>\n",
       "      <th>3</th>\n",
       "      <td>A004TB</td>\n",
       "      <td>4190</td>\n",
       "      <td>not_new</td>\n",
       "      <td>44.0</td>\n",
       "      <td>female</td>\n",
       "      <td>IOS</td>\n",
       "      <td>SMARTPHONE</td>\n",
       "      <td>Россия</td>\n",
       "      <td>РостовнаДону</td>\n",
       "      <td>35-44</td>\n",
       "      <td>0.1-1</td>\n",
       "      <td>36+</td>\n",
       "      <td>10</td>\n",
       "      <td>promoters</td>\n",
       "    </tr>\n",
       "    <tr>\n",
       "      <th>4</th>\n",
       "      <td>A004XT</td>\n",
       "      <td>1163</td>\n",
       "      <td>not_new</td>\n",
       "      <td>24.0</td>\n",
       "      <td>male</td>\n",
       "      <td>ANDROID</td>\n",
       "      <td>SMARTPHONE</td>\n",
       "      <td>Россия</td>\n",
       "      <td>Рязань</td>\n",
       "      <td>16-24</td>\n",
       "      <td>5-10</td>\n",
       "      <td>36+</td>\n",
       "      <td>10</td>\n",
       "      <td>promoters</td>\n",
       "    </tr>\n",
       "    <tr>\n",
       "      <th>5</th>\n",
       "      <td>A005O0</td>\n",
       "      <td>5501</td>\n",
       "      <td>not_new</td>\n",
       "      <td>42.0</td>\n",
       "      <td>female</td>\n",
       "      <td>ANDROID</td>\n",
       "      <td>SMARTPHONE</td>\n",
       "      <td>Россия</td>\n",
       "      <td>Омск</td>\n",
       "      <td>35-44</td>\n",
       "      <td>5-10</td>\n",
       "      <td>36+</td>\n",
       "      <td>6</td>\n",
       "      <td>detractors</td>\n",
       "    </tr>\n",
       "    <tr>\n",
       "      <th>6</th>\n",
       "      <td>A0061R</td>\n",
       "      <td>1236</td>\n",
       "      <td>not_new</td>\n",
       "      <td>45.0</td>\n",
       "      <td>male</td>\n",
       "      <td>ANDROID</td>\n",
       "      <td>SMARTPHONE</td>\n",
       "      <td>Россия</td>\n",
       "      <td>Уфа</td>\n",
       "      <td>45-54</td>\n",
       "      <td>10-15</td>\n",
       "      <td>36+</td>\n",
       "      <td>10</td>\n",
       "      <td>promoters</td>\n",
       "    </tr>\n",
       "    <tr>\n",
       "      <th>7</th>\n",
       "      <td>A009KS</td>\n",
       "      <td>313</td>\n",
       "      <td>new</td>\n",
       "      <td>35.0</td>\n",
       "      <td>male</td>\n",
       "      <td>ANDROID</td>\n",
       "      <td>SMARTPHONE</td>\n",
       "      <td>Россия</td>\n",
       "      <td>Москва</td>\n",
       "      <td>35-44</td>\n",
       "      <td>45-50</td>\n",
       "      <td>7-12</td>\n",
       "      <td>10</td>\n",
       "      <td>promoters</td>\n",
       "    </tr>\n",
       "    <tr>\n",
       "      <th>8</th>\n",
       "      <td>A00AES</td>\n",
       "      <td>3238</td>\n",
       "      <td>not_new</td>\n",
       "      <td>36.0</td>\n",
       "      <td>female</td>\n",
       "      <td>ANDROID</td>\n",
       "      <td>SMARTPHONE</td>\n",
       "      <td>Россия</td>\n",
       "      <td>СанктПетербург</td>\n",
       "      <td>35-44</td>\n",
       "      <td>1-5</td>\n",
       "      <td>36+</td>\n",
       "      <td>10</td>\n",
       "      <td>promoters</td>\n",
       "    </tr>\n",
       "    <tr>\n",
       "      <th>9</th>\n",
       "      <td>A00F70</td>\n",
       "      <td>4479</td>\n",
       "      <td>not_new</td>\n",
       "      <td>54.0</td>\n",
       "      <td>female</td>\n",
       "      <td>ANDROID</td>\n",
       "      <td>SMARTPHONE</td>\n",
       "      <td>Россия</td>\n",
       "      <td>Волгоград</td>\n",
       "      <td>45-54</td>\n",
       "      <td>15-20</td>\n",
       "      <td>36+</td>\n",
       "      <td>9</td>\n",
       "      <td>promoters</td>\n",
       "    </tr>\n",
       "  </tbody>\n",
       "</table>\n",
       "</div>"
      ],
      "text/plain": [
       "  user_id  lt_day   is_new   age gender_segment  os_name cpe_type_name  \\\n",
       "0  A001A2    2320  not_new  45.0         female  ANDROID    SMARTPHONE   \n",
       "1  A001WF    2344  not_new  53.0           male  ANDROID    SMARTPHONE   \n",
       "2  A003Q7     467  not_new  57.0           male  ANDROID    SMARTPHONE   \n",
       "3  A004TB    4190  not_new  44.0         female      IOS    SMARTPHONE   \n",
       "4  A004XT    1163  not_new  24.0           male  ANDROID    SMARTPHONE   \n",
       "5  A005O0    5501  not_new  42.0         female  ANDROID    SMARTPHONE   \n",
       "6  A0061R    1236  not_new  45.0           male  ANDROID    SMARTPHONE   \n",
       "7  A009KS     313      new  35.0           male  ANDROID    SMARTPHONE   \n",
       "8  A00AES    3238  not_new  36.0         female  ANDROID    SMARTPHONE   \n",
       "9  A00F70    4479  not_new  54.0         female  ANDROID    SMARTPHONE   \n",
       "\n",
       "  country            city age_segment traffic_segment lifetime_segment  \\\n",
       "0  Россия             Уфа       45-54             1-5              36+   \n",
       "1  Россия           Киров       45-54             1-5              36+   \n",
       "2  Россия          Москва       55-64           20-25            13-24   \n",
       "3  Россия    РостовнаДону       35-44           0.1-1              36+   \n",
       "4  Россия          Рязань       16-24            5-10              36+   \n",
       "5  Россия            Омск       35-44            5-10              36+   \n",
       "6  Россия             Уфа       45-54           10-15              36+   \n",
       "7  Россия          Москва       35-44           45-50             7-12   \n",
       "8  Россия  СанктПетербург       35-44             1-5              36+   \n",
       "9  Россия       Волгоград       45-54           15-20              36+   \n",
       "\n",
       "   nps_score   nps_group  \n",
       "0         10   promoters  \n",
       "1         10   promoters  \n",
       "2         10   promoters  \n",
       "3         10   promoters  \n",
       "4         10   promoters  \n",
       "5          6  detractors  \n",
       "6         10   promoters  \n",
       "7         10   promoters  \n",
       "8         10   promoters  \n",
       "9          9   promoters  "
      ]
     },
     "execution_count": 4,
     "metadata": {},
     "output_type": "execute_result"
    }
   ],
   "source": [
    "df = pd.read_sql(query, engine)\n",
    "df.head(10)"
   ]
  },
  {
   "cell_type": "code",
   "execution_count": 5,
   "id": "79cfeb40",
   "metadata": {},
   "outputs": [],
   "source": [
    "df.to_csv('telecomm_csi_tableau.csv')"
   ]
  },
  {
   "cell_type": "markdown",
   "id": "76a306d0",
   "metadata": {},
   "source": [
    "### Ссылка на дашборд на сайте Tableau Public:"
   ]
  },
  {
   "cell_type": "markdown",
   "id": "9f735802",
   "metadata": {},
   "source": [
    "Ссылка на дашборд: <https://public.tableau.com/app/profile/zhanna6775/viz/prefab_project_2/Dashboard1?publish=yes>"
   ]
  },
  {
   "cell_type": "markdown",
   "id": "96a784d7",
   "metadata": {},
   "source": [
    "### Ссылка на pdf-файл с презентацией:"
   ]
  },
  {
   "cell_type": "markdown",
   "id": "bf413ddd",
   "metadata": {},
   "source": [
    "Ссылка на презентацию: <https://drive.google.com/file/d/1-Kdb39IfGpjcrEiC3SLObi8I-eMItxVt/view?usp=sharing>"
   ]
  }
 ],
 "metadata": {
  "ExecuteTimeLog": [
   {
    "duration": 752,
    "start_time": "2021-10-03T17:40:52.731Z"
   },
   {
    "duration": 20,
    "start_time": "2021-10-03T17:40:53.486Z"
   },
   {
    "duration": 4,
    "start_time": "2021-10-03T17:41:04.638Z"
   },
   {
    "duration": 461,
    "start_time": "2021-10-03T17:41:04.912Z"
   },
   {
    "duration": 284,
    "start_time": "2021-10-03T17:41:05.376Z"
   },
   {
    "duration": 574,
    "start_time": "2021-10-06T07:55:05.029Z"
   },
   {
    "duration": 6,
    "start_time": "2021-10-06T07:55:05.605Z"
   },
   {
    "duration": 3,
    "start_time": "2021-10-06T07:55:14.685Z"
   },
   {
    "duration": 406,
    "start_time": "2021-10-06T07:55:15.522Z"
   },
   {
    "duration": 67,
    "start_time": "2021-10-06T07:55:15.929Z"
   },
   {
    "duration": 840,
    "start_time": "2021-10-07T07:54:04.647Z"
   },
   {
    "duration": 10,
    "start_time": "2021-10-07T07:54:05.490Z"
   },
   {
    "duration": 4,
    "start_time": "2021-10-07T07:54:05.544Z"
   },
   {
    "duration": 391,
    "start_time": "2021-10-07T07:54:06.237Z"
   },
   {
    "duration": 293,
    "start_time": "2021-10-07T07:54:06.654Z"
   },
   {
    "duration": 537,
    "start_time": "2022-10-10T21:02:44.723Z"
   },
   {
    "duration": 29,
    "start_time": "2022-10-10T21:02:46.166Z"
   },
   {
    "duration": 4,
    "start_time": "2022-10-10T21:02:47.266Z"
   },
   {
    "duration": 511,
    "start_time": "2022-10-10T21:02:50.294Z"
   },
   {
    "duration": 4,
    "start_time": "2022-10-10T21:07:49.637Z"
   },
   {
    "duration": 387,
    "start_time": "2022-10-10T21:07:51.891Z"
   },
   {
    "duration": 3,
    "start_time": "2022-10-10T21:18:03.944Z"
   },
   {
    "duration": 396,
    "start_time": "2022-10-10T21:18:05.747Z"
   },
   {
    "duration": 3,
    "start_time": "2022-10-10T21:31:58.459Z"
   },
   {
    "duration": 388,
    "start_time": "2022-10-10T21:32:00.908Z"
   },
   {
    "duration": 4,
    "start_time": "2022-10-11T13:31:13.553Z"
   },
   {
    "duration": 415,
    "start_time": "2022-10-11T13:31:16.121Z"
   },
   {
    "duration": 3,
    "start_time": "2022-10-11T13:33:44.472Z"
   },
   {
    "duration": 385,
    "start_time": "2022-10-11T13:33:46.581Z"
   },
   {
    "duration": 3,
    "start_time": "2022-10-11T13:34:35.938Z"
   },
   {
    "duration": 391,
    "start_time": "2022-10-11T13:34:37.932Z"
   },
   {
    "duration": 2,
    "start_time": "2022-10-11T13:36:31.479Z"
   },
   {
    "duration": 424,
    "start_time": "2022-10-11T13:36:33.512Z"
   },
   {
    "duration": 3,
    "start_time": "2022-10-11T13:39:04.898Z"
   },
   {
    "duration": 463,
    "start_time": "2022-10-11T13:39:07.132Z"
   },
   {
    "duration": 3,
    "start_time": "2022-10-11T13:42:46.133Z"
   },
   {
    "duration": 7397,
    "start_time": "2022-10-11T13:42:48.479Z"
   },
   {
    "duration": 3,
    "start_time": "2022-10-11T13:43:20.759Z"
   },
   {
    "duration": 5029,
    "start_time": "2022-10-11T13:43:22.902Z"
   },
   {
    "duration": 3,
    "start_time": "2022-10-11T13:46:14.891Z"
   },
   {
    "duration": 5442,
    "start_time": "2022-10-11T13:46:17.213Z"
   },
   {
    "duration": 63,
    "start_time": "2022-10-11T13:46:51.050Z"
   },
   {
    "duration": 75,
    "start_time": "2022-10-11T13:47:28.318Z"
   },
   {
    "duration": 74,
    "start_time": "2022-10-11T13:47:39.132Z"
   },
   {
    "duration": 56,
    "start_time": "2022-10-11T13:49:22.912Z"
   },
   {
    "duration": 534,
    "start_time": "2022-10-11T13:49:54.502Z"
   },
   {
    "duration": 11,
    "start_time": "2022-10-11T13:49:55.039Z"
   },
   {
    "duration": 3,
    "start_time": "2022-10-11T13:49:55.052Z"
   },
   {
    "duration": 5386,
    "start_time": "2022-10-11T13:49:55.057Z"
   },
   {
    "duration": 143,
    "start_time": "2022-10-11T13:50:00.446Z"
   },
   {
    "duration": 5098,
    "start_time": "2022-10-11T13:58:23.909Z"
   },
   {
    "duration": 67,
    "start_time": "2022-10-11T14:04:55.922Z"
   },
   {
    "duration": 92,
    "start_time": "2022-10-11T14:05:02.676Z"
   },
   {
    "duration": 60,
    "start_time": "2022-10-11T14:17:31.244Z"
   },
   {
    "duration": 475,
    "start_time": "2022-10-12T06:49:20.456Z"
   },
   {
    "duration": 20,
    "start_time": "2022-10-12T06:49:20.933Z"
   },
   {
    "duration": 3,
    "start_time": "2022-10-12T06:49:20.954Z"
   },
   {
    "duration": 391,
    "start_time": "2022-10-12T06:49:20.959Z"
   },
   {
    "duration": 0,
    "start_time": "2022-10-12T06:49:21.352Z"
   },
   {
    "duration": 542,
    "start_time": "2022-10-12T15:05:49.540Z"
   },
   {
    "duration": 24,
    "start_time": "2022-10-12T15:05:52.234Z"
   },
   {
    "duration": 4,
    "start_time": "2022-10-12T15:05:53.315Z"
   },
   {
    "duration": 343,
    "start_time": "2022-10-12T15:05:54.799Z"
   },
   {
    "duration": 4,
    "start_time": "2022-10-12T15:08:55.250Z"
   },
   {
    "duration": 3,
    "start_time": "2022-10-12T15:08:57.777Z"
   },
   {
    "duration": 5325,
    "start_time": "2022-10-12T15:08:58.604Z"
   },
   {
    "duration": 46,
    "start_time": "2022-10-12T15:09:07.629Z"
   },
   {
    "duration": 4622,
    "start_time": "2022-10-12T15:10:24.516Z"
   },
   {
    "duration": 502,
    "start_time": "2022-10-13T04:13:48.223Z"
   },
   {
    "duration": 8,
    "start_time": "2022-10-13T04:13:48.727Z"
   },
   {
    "duration": 3,
    "start_time": "2022-10-13T04:13:48.738Z"
   },
   {
    "duration": 4742,
    "start_time": "2022-10-13T04:13:48.743Z"
   },
   {
    "duration": 3861,
    "start_time": "2022-10-13T04:13:53.486Z"
   },
   {
    "duration": 1999,
    "start_time": "2022-10-13T04:16:34.897Z"
   },
   {
    "duration": 1776,
    "start_time": "2022-10-13T04:16:47.880Z"
   }
  ],
  "kernelspec": {
   "display_name": "Python 3 (ipykernel)",
   "language": "python",
   "name": "python3"
  },
  "language_info": {
   "codemirror_mode": {
    "name": "ipython",
    "version": 3
   },
   "file_extension": ".py",
   "mimetype": "text/x-python",
   "name": "python",
   "nbconvert_exporter": "python",
   "pygments_lexer": "ipython3",
   "version": "3.9.12"
  },
  "toc": {
   "base_numbering": 1,
   "nav_menu": {},
   "number_sections": true,
   "sideBar": true,
   "skip_h1_title": true,
   "title_cell": "Table of Contents",
   "title_sidebar": "Contents",
   "toc_cell": false,
   "toc_position": {},
   "toc_section_display": true,
   "toc_window_display": false
  }
 },
 "nbformat": 4,
 "nbformat_minor": 5
}
